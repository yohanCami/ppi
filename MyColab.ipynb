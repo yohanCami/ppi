{
  "nbformat": 4,
  "nbformat_minor": 0,
  "metadata": {
    "colab": {
      "provenance": [],
      "toc_visible": true,
      "authorship_tag": "ABX9TyPeFZ6hN7zDzYCUmwPg66YO",
      "include_colab_link": true
    },
    "kernelspec": {
      "name": "python3",
      "display_name": "Python 3"
    },
    "language_info": {
      "name": "python"
    }
  },
  "cells": [
    {
      "cell_type": "markdown",
      "metadata": {
        "id": "view-in-github",
        "colab_type": "text"
      },
      "source": [
        "<a href=\"https://colab.research.google.com/github/yohanCami/ppi/blob/main/MyColab.ipynb\" target=\"_parent\"><img src=\"https://colab.research.google.com/assets/colab-badge.svg\" alt=\"Open In Colab\"/></a>"
      ]
    },
    {
      "cell_type": "code",
      "execution_count": 5,
      "metadata": {
        "colab": {
          "base_uri": "https://localhost:8080/"
        },
        "id": "tML4CzuK8gkG",
        "outputId": "49279c8a-a77a-4edc-b8b3-a915fe76fe05"
      },
      "outputs": [
        {
          "output_type": "stream",
          "name": "stdout",
          "text": [
            "Esta es una prueba\n",
            "2 no es mayor que 4\n"
          ]
        }
      ],
      "source": [
        "print(\"Esta es una prueba\")\n",
        "\n",
        "a = 2\n",
        "b = 4\n",
        "\n",
        "if a > b:\n",
        "  print(a, \"es mayor que\", b)\n",
        "\n",
        "else:\n",
        "  print(a, \"no es mayor que\", b)"
      ]
    },
    {
      "cell_type": "markdown",
      "source": [
        "**Esta es una celda de texto**"
      ],
      "metadata": {
        "id": "lL637iHJ9DJT"
      }
    },
    {
      "cell_type": "markdown",
      "source": [
        "# Esta es mi primera sección"
      ],
      "metadata": {
        "id": "DztQ5wxA9Jaz"
      }
    },
    {
      "cell_type": "code",
      "source": [
        "print(\"Hola mundo\")"
      ],
      "metadata": {
        "colab": {
          "base_uri": "https://localhost:8080/"
        },
        "id": "CYz0mZFP9C8E",
        "outputId": "2705976c-7d9d-4990-f885-1d4f43a89df8"
      },
      "execution_count": 4,
      "outputs": [
        {
          "output_type": "stream",
          "name": "stdout",
          "text": [
            "Hola mundo\n"
          ]
        }
      ]
    },
    {
      "cell_type": "markdown",
      "source": [
        "# Esta es otra sección"
      ],
      "metadata": {
        "id": "foT9beGk_Vnc"
      }
    }
  ]
}